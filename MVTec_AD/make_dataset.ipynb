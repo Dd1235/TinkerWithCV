{
 "cells": [
  {
   "cell_type": "markdown",
   "id": "70000710",
   "metadata": {},
   "source": [
    "Code for dataloaders"
   ]
  }
 ],
 "metadata": {
  "language_info": {
   "name": "python"
  }
 },
 "nbformat": 4,
 "nbformat_minor": 5
}
