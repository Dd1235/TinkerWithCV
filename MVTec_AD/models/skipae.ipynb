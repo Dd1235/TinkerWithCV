{
 "cells": [
  {
   "cell_type": "markdown",
   "id": "c7cd7d87",
   "metadata": {},
   "source": [
    "Credits: [Symmetric Skip\n",
    "Connections Paper](https://arxiv.org/pdf/1606.08921)"
   ]
  },
  {
   "cell_type": "code",
   "execution_count": 1,
   "id": "f3f35cf0",
   "metadata": {},
   "outputs": [],
   "source": [
    "import torch.nn as nn\n",
    "import torch.nn.functional as F"
   ]
  },
  {
   "cell_type": "markdown",
   "id": "3ee00a33",
   "metadata": {},
   "source": [
    "Lets make a random tensor and play around to see how the dimensions work out\n",
    "Making random tensor because running this locally right now, will work with dataset in colab (mac with 20gb left problems lol)"
   ]
  },
  {
   "cell_type": "code",
   "execution_count": 2,
   "id": "3d29bb95",
   "metadata": {},
   "outputs": [
    {
     "name": "stdout",
     "output_type": "stream",
     "text": [
      "Original x shape, this is how the image is going to be, 3 channels with 224x224 :  torch.Size([3, 224, 224])\n",
      "We have added an extra dimesion to suit required input dimensions:  torch.Size([1, 3, 224, 224])\n",
      "enc1:  torch.Size([1, 32, 112, 112])\n",
      "enc2:  torch.Size([1, 32, 56, 56])\n",
      "enc3:  torch.Size([1, 64, 28, 28])\n",
      "enc4:  torch.Size([1, 64, 14, 14])\n",
      "enc5:  torch.Size([1, 128, 7, 7])\n",
      "enc6:  torch.Size([1, 128, 4, 4])\n"
     ]
    }
   ],
   "source": [
    "import torch\n",
    "\n",
    "x = torch.randn(3, 224, 224)  \n",
    "print(\"Original x shape, this is how the image is going to be, 3 channels with 224x224 : \", x.shape);\n",
    "x = x.unsqueeze(0)\n",
    "print(\"We have added an extra dimesion to suit required input dimensions: \", x.shape)\n",
    " \n",
    "# dilation is one by default, keeping that\n",
    "#( n + 2p - f)/s + 1\n",
    "c1 = nn.Conv2d(3,32,kernel_size=3,stride=2,padding=1) \n",
    "x = c1(x) # pass through first consolutional layer\n",
    "print(\"enc1: \", x.shape)\n",
    "\n",
    "c2 = nn.Conv2d(32, 32, kernel_size=3, stride=2, padding=1)\n",
    "x = c2(x)\n",
    "print(\"enc2: \", x.shape)\n",
    "\n",
    "c3 = nn.Conv2d(32, 64, kernel_size=3, stride=2, padding=1)\n",
    "x = c3(x)\n",
    "print(\"enc3: \", x.shape)\n",
    "\n",
    "c4 = nn.Conv2d(64, 64, kernel_size=3, stride=2, padding=1)\n",
    "x = c4(x)\n",
    "print(\"enc4: \", x.shape)\n",
    "\n",
    "c5 = nn.Conv2d(64, 128, kernel_size=3, stride=2, padding=1)\n",
    "x = c5(x)\n",
    "print(\"enc5: \", x.shape)\n",
    "\n",
    "c6 = nn.Conv2d(128, 128, kernel_size=3, stride=2, padding=1)\n",
    "x = c6(x)\n",
    "print(\"enc6: \", x.shape)"
   ]
  },
  {
   "cell_type": "code",
   "execution_count": 3,
   "id": "a694eae3",
   "metadata": {},
   "outputs": [
    {
     "name": "stdout",
     "output_type": "stream",
     "text": [
      "dec1:  torch.Size([1, 128, 8, 8])\n",
      "dec2:  torch.Size([1, 64, 16, 16])\n",
      "dec3:  torch.Size([1, 64, 32, 32])\n",
      "dec4:  torch.Size([1, 32, 64, 64])\n",
      "dec5:  torch.Size([1, 32, 128, 128])\n",
      "output (reconstructed image):  torch.Size([1, 3, 256, 256])\n"
     ]
    }
   ],
   "source": [
    "d1 = nn.ConvTranspose2d(128, 128, kernel_size=3, stride=2, padding=1, output_padding=1)\n",
    "x = d1(x)\n",
    "print(\"dec1: \", x.shape)  \n",
    "\n",
    "d2 = nn.ConvTranspose2d(128, 64, kernel_size=3, stride=2, padding=1, output_padding=1)\n",
    "x = d2(x)\n",
    "print(\"dec2: \", x.shape)  \n",
    "\n",
    "d3 = nn.ConvTranspose2d(64, 64, kernel_size=3, stride=2, padding=1, output_padding=1)\n",
    "x = d3(x)\n",
    "print(\"dec3: \", x.shape)  \n",
    "\n",
    "d4 = nn.ConvTranspose2d(64, 32, kernel_size=3, stride=2, padding=1, output_padding=1)\n",
    "x = d4(x)\n",
    "print(\"dec4: \", x.shape)  \n",
    "\n",
    "d5 = nn.ConvTranspose2d(32, 32, kernel_size=3, stride=2, padding=1, output_padding=1)\n",
    "x = d5(x)\n",
    "print(\"dec5: \", x.shape)  \n",
    "\n",
    "d6 = nn.ConvTranspose2d(32, 3, kernel_size=3, stride=2, padding=1, output_padding=1)\n",
    "x = d6(x)\n",
    "print(\"output (reconstructed image): \", x.shape) \n"
   ]
  },
  {
   "cell_type": "code",
   "execution_count": null,
   "id": "2f962681",
   "metadata": {},
   "outputs": [],
   "source": [
    "class SkipAutoencoder(nn.Module):\n",
    "    def __init__(self):\n",
    "        super(SkipAutoencoder, self).__init__()\n",
    "\n",
    "        # encoder\n",
    "        self.enc1 = nn.Sequential(\n",
    "            nn.Conv2d(3, 32, kernel_size=3, stride=2, padding=1),\n",
    "            nn.LeakyReLU(),\n",
    "        )\n",
    "        self.enc2 = nn.Sequential(\n",
    "            nn.Conv2d(32, 32, kernel_size=3, stride=2, padding=1),\n",
    "            nn.LeakyReLU(),\n",
    "        )\n",
    "        self.enc3 = nn.Sequential(\n",
    "            nn.Conv2d(32, 64, kernel_size=3, stride=2, padding=1),\n",
    "            nn.LeakyReLU()\n",
    "        )\n",
    "        self.enc4 = nn.Sequential(\n",
    "            nn.Conv2d(64, 64, kernel_size=3, stride=2, padding=1),\n",
    "            nn.LeakyReLU()\n",
    "        )\n",
    "        self.enc5 = nn.Sequential(\n",
    "            nn.Conv2d(64, 128, kernel_size=3, stride=2, padding=1),\n",
    "            nn.LeakyReLU()\n",
    "        )\n",
    "        self.enc6 = nn.Sequential(\n",
    "            nn.Conv2d(128, 128, kernel_size=3, stride=2, padding=1),\n",
    "            nn.LeakyReLU()\n",
    "        )\n",
    "\n",
    "        # Decoder (transpose conv)\n",
    "        self.dec1 = nn.Sequential(\n",
    "            nn.ConvTranspose2d(128, 128, kernel_size=3, stride=2, padding=1, output_padding=1),\n",
    "            nn.LeakyReLU()\n",
    "        )\n",
    "        self.dec2 = nn.Sequential(\n",
    "            nn.ConvTranspose2d(128, 64, kernel_size=3, stride=2, padding=1, output_padding=1),\n",
    "            nn.LeakyReLU()\n",
    "        )\n",
    "        self.dec3 = nn.Sequential(\n",
    "            nn.ConvTranspose2d(64, 64, kernel_size=3, stride=2, padding=1, output_padding=1),\n",
    "            nn.LeakyReLU()\n",
    "        )\n",
    "        self.dec4 = nn.Sequential(\n",
    "            nn.ConvTranspose2d(64, 32, kernel_size=3, stride=2, padding=1, output_padding=1),\n",
    "            nn.LeakyReLU()\n",
    "        )\n",
    "        self.dec5 = nn.Sequential(\n",
    "            nn.ConvTranspose2d(32, 32, kernel_size=3, stride=2, padding=1, output_padding=1),\n",
    "            nn.LeakyReLU()\n",
    "        )\n",
    "        self.out = nn.Sequential(\n",
    "            nn.ConvTranspose2d(32, 3, kernel_size=3, stride=2, padding=1, output_padding=1),\n",
    "            nn.Sigmoid()\n",
    "        )\n",
    "\n",
    "        self.bn = nn.BatchNorm2d(32)\n",
    "\n",
    "    def forward(self, x):\n",
    "        # Encoder with skip connections\n",
    "        x1 = self.enc1(x)\n",
    "        x2 = self.enc2(x1)\n",
    "        x3 = self.enc3(x2)  # skip-1\n",
    "        x4 = self.enc4(x3)\n",
    "        x5 = self.enc5(x4)  # skip-2\n",
    "        x6 = self.enc6(x5)\n",
    "\n",
    "        # Decoder with skips\n",
    "        y = self.dec1(x6)\n",
    "        y = self.dec2(y)\n",
    "        y = self.dec3(y + x5)  # skip-2\n",
    "        y = self.dec4(y)\n",
    "        y = self.dec5(y + x3)  # skip-1\n",
    "        y = self.out(y)\n",
    "        return y"
   ]
  }
 ],
 "metadata": {
  "kernelspec": {
   "display_name": "base",
   "language": "python",
   "name": "python3"
  },
  "language_info": {
   "codemirror_mode": {
    "name": "ipython",
    "version": 3
   },
   "file_extension": ".py",
   "mimetype": "text/x-python",
   "name": "python",
   "nbconvert_exporter": "python",
   "pygments_lexer": "ipython3",
   "version": "3.11.0"
  }
 },
 "nbformat": 4,
 "nbformat_minor": 5
}
