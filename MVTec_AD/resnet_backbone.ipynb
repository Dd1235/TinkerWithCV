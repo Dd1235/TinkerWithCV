{
 "cells": [
  {
   "cell_type": "code",
   "execution_count": 1,
   "id": "73c15c65",
   "metadata": {},
   "outputs": [],
   "source": [
    "from pathlib import Path\n",
    "import numpy as np\n",
    "import matplotlib.pyplot as plt\n",
    "\n",
    "from PIL import Image\n",
    "from tqdm.auto import tqdm\n",
    "import torch\n",
    "import torchvision\n",
    "from torch.utils.data import DataLoader\n",
    "from torchvision.transforms import transforms\n",
    "from torchvision.datasets import ImageFolder\n",
    "import torch.optim as optim"
   ]
  },
  {
   "cell_type": "code",
   "execution_count": 4,
   "id": "0a323dcc",
   "metadata": {},
   "outputs": [],
   "source": [
    "transform = transforms.Compose([\n",
    "    transforms.Resize((224,224)),\n",
    "    transforms.ToTensor()\n",
    "])"
   ]
  },
  {
   "cell_type": "code",
   "execution_count": 3,
   "id": "e3eba01d",
   "metadata": {},
   "outputs": [],
   "source": [
    "base_path = \"base path according to kaggle or colab\"\n",
    "train_path = Path(base_path) / \"train\"\n",
    "test_path = Path(base_path) / \"test\"\n",
    "ground_truth_path = Path(base_path) / \"ground_truth\""
   ]
  },
  {
   "cell_type": "code",
   "execution_count": null,
   "id": "5727643e",
   "metadata": {},
   "outputs": [],
   "source": [
    "# uncomment this and run based on your dataset structure\n",
    "# pains of balancing free usage limits of colab and kaggle\n",
    "# good_dataset = ImageFolder(train_path / \"good\", transform=transform)\n",
    "# train_dataset, test_dataset = torch.utils.data.random_split(good_dataset, [0.8,0.2])\n",
    "\n",
    "# batch_size = 16\n",
    "\n",
    "# train_loader = DataLoader(train_dataset, batch_size=batch_size, shuffle=True)\n",
    "# test_loader = DataLoader(test_dataset, batch_size=batch_size, shuffle=False)"
   ]
  },
  {
   "cell_type": "code",
   "execution_count": null,
   "id": "f460a153",
   "metadata": {},
   "outputs": [],
   "source": [
    "# from torchvision.models import resnet50, ResNet50_Weights\n",
    "# resnet_model = resnet50(weights=ResNet50_Weights.DEFAULT)\n",
    "\n",
    "# for name in resnet_model.named_parameters():\n",
    "#     print(name[0])\n",
    "\n",
    "# resnet_model.layer2\n",
    "\n",
    "# def hook(model, input, output):\n",
    "#     feature.append(output.detach())\n",
    "\n",
    "# feature =[]\n",
    "# resnet_model.layer2[-1].register_forward_hook(hook)\n",
    "# resnet_model.layer3[-1].register_forward_hook(hook)\n",
    "\n",
    "# _ = resnet_model(torch.randn(1,3,224,224))\n",
    "\n",
    "# feature[1].shape"
   ]
  },
  {
   "cell_type": "code",
   "execution_count": null,
   "id": "a7d88917",
   "metadata": {},
   "outputs": [],
   "source": []
  }
 ],
 "metadata": {
  "kernelspec": {
   "display_name": "base",
   "language": "python",
   "name": "python3"
  },
  "language_info": {
   "codemirror_mode": {
    "name": "ipython",
    "version": 3
   },
   "file_extension": ".py",
   "mimetype": "text/x-python",
   "name": "python",
   "nbconvert_exporter": "python",
   "pygments_lexer": "ipython3",
   "version": "3.11.0"
  }
 },
 "nbformat": 4,
 "nbformat_minor": 5
}
