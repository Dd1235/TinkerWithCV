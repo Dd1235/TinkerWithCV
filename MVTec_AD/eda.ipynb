{
 "cells": [
  {
   "cell_type": "markdown",
   "id": "0ee4b01c",
   "metadata": {},
   "source": [
    "Look at the Dataset"
   ]
  },
  {
   "cell_type": "markdown",
   "id": "8fb1f11e",
   "metadata": {},
   "source": []
  }
 ],
 "metadata": {
  "language_info": {
   "name": "python"
  }
 },
 "nbformat": 4,
 "nbformat_minor": 5
}
